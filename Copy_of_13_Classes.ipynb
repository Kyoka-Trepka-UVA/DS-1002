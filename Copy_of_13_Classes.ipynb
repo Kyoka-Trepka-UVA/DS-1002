{
  "nbformat": 4,
  "nbformat_minor": 0,
  "metadata": {
    "colab": {
      "provenance": [],
      "include_colab_link": true
    },
    "kernelspec": {
      "name": "python3",
      "display_name": "Python 3"
    },
    "language_info": {
      "name": "python"
    }
  },
  "cells": [
    {
      "cell_type": "markdown",
      "metadata": {
        "id": "view-in-github",
        "colab_type": "text"
      },
      "source": [
        "<a href=\"https://colab.research.google.com/github/Kyoka-Trepka-UVA/DS-1002/blob/main/Copy_of_13_Classes.ipynb\" target=\"_parent\"><img src=\"https://colab.research.google.com/assets/colab-badge.svg\" alt=\"Open In Colab\"/></a>"
      ]
    },
    {
      "cell_type": "markdown",
      "source": [
        "## Assignment:  Classes\n",
        "### Due Sunday 28 April at 10pm"
      ],
      "metadata": {
        "id": "5Vy93BSp9Tum"
      }
    },
    {
      "cell_type": "markdown",
      "source": [
        "Kyoka Trepka\n",
        "Lorenzo rolumo"
      ],
      "metadata": {
        "id": "fprZ9T9BYdwF"
      }
    },
    {
      "cell_type": "markdown",
      "source": [
        "1.  Define a class called `Person` that has attributes `lastName`, `firstName`, `mother`, and `father`.  Both `mother` and `father` should have default value `unknown`.\n",
        "\n",
        "  Include a `__str__()` function that returns a string of the form '`firstName` `lastName`'.\n",
        "\n",
        "  Include a `__repr__()` function that returns a string that can be evaluated to recreate the `Person` object.\n",
        "\n"
      ],
      "metadata": {
        "id": "vcj5XQAI9Wsb"
      }
    },
    {
      "cell_type": "code",
      "source": [
        "class Person:\n",
        "    def __init__(self, firstname, lastname, mother='unknown', father='unknown'):\n",
        "        self.lastname = lastname\n",
        "        self.firstname = firstname\n",
        "        self.mother = mother\n",
        "        self.father = father\n",
        "\n",
        "    def __str__(self):\n",
        "        return f'{self.firstname} {self.lastname}'\n",
        "\n",
        "    def __repr__(self):\n",
        "        return f\"Person('{self.firstname}', '{self.lastname}', mother='{self.mother}', father='{self.father}')\"\n",
        "\n",
        "\n"
      ],
      "metadata": {
        "id": "mjHDwHv3EpVe"
      },
      "execution_count": 11,
      "outputs": []
    },
    {
      "cell_type": "markdown",
      "source": [
        "Create a person (i.e., a `Person` object) called `p` with unknown parents.  (You will need to give your person a first and last name.) Check the type of `p`.  Include all inputs and outputs."
      ],
      "metadata": {
        "id": "-ppMsEIVHINl"
      }
    },
    {
      "cell_type": "code",
      "source": [
        "p = Person('john', 'Magda')\n",
        "\n",
        "\n"
      ],
      "metadata": {
        "id": "5bwid_6gHIBH"
      },
      "execution_count": 12,
      "outputs": []
    },
    {
      "cell_type": "markdown",
      "source": [
        "Verify that your `__str__` and `__repr__` functions are doing what they are supposed to do.  Include all inputs and outputs."
      ],
      "metadata": {
        "id": "Z6zlUC3xRtal"
      }
    },
    {
      "cell_type": "code",
      "source": [
        "output_str = str(p)\n",
        "output_repr = repr(p)\n",
        "type_of_p = type(p)\n",
        "\n",
        "\n",
        "(output_str, output_repr, type_of_p)"
      ],
      "metadata": {
        "id": "jZO0dBQYRs-K",
        "colab": {
          "base_uri": "https://localhost:8080/"
        },
        "outputId": "8b78d883-52d5-48f6-9c23-7f200e4f9fc4"
      },
      "execution_count": 14,
      "outputs": [
        {
          "output_type": "execute_result",
          "data": {
            "text/plain": [
              "('john Magda',\n",
              " \"Person('john', 'Magda', mother='unknown', father='unknown')\",\n",
              " __main__.Person)"
            ]
          },
          "metadata": {},
          "execution_count": 14
        }
      ]
    },
    {
      "cell_type": "markdown",
      "source": [
        "Suppose the mother of `p` has been found and is named Taylor Swift.  Create a new person named Taylor Swift, and make her the mother of `p`:\n",
        "\n",
        "```\n",
        "> p.mother\n",
        "'Taylor Swift'\n",
        "```"
      ],
      "metadata": {
        "id": "1mOAThQiHzoQ"
      }
    },
    {
      "cell_type": "code",
      "source": [
        "taylor_swift = Person('Taylor', 'Swift')\n",
        "\n",
        "p.mother = taylor_swift\n",
        "\n",
        "p_mother_str = str(p.mother)\n",
        "p_mother_str"
      ],
      "metadata": {
        "id": "NYbDOorpHymz",
        "colab": {
          "base_uri": "https://localhost:8080/",
          "height": 35
        },
        "outputId": "f4bcd100-ca61-4b69-d10a-e816a64af5aa"
      },
      "execution_count": 15,
      "outputs": [
        {
          "output_type": "execute_result",
          "data": {
            "text/plain": [
              "'Taylor Swift'"
            ],
            "application/vnd.google.colaboratory.intrinsic+json": {
              "type": "string"
            }
          },
          "metadata": {},
          "execution_count": 15
        }
      ]
    },
    {
      "cell_type": "markdown",
      "source": [
        "2.  Add some methods to your class.  Start by copying the `class` definition you already wrote.  Then, inside the `class` definition:\n",
        "\n",
        "  (a) Write a method called `unknownParent()` which returns `True` if any parent is 'unknown' and `False` otherwise.\n",
        "\n",
        "  (b) Write a method called `maternalGrandmother()` which returns the mother's mother.  If the mother is unknown, it should return 'unknown'.\n",
        "\n"
      ],
      "metadata": {
        "id": "1g1pcrmFHzGh"
      }
    },
    {
      "cell_type": "code",
      "source": [
        "class Person:\n",
        "    def __init__(self, firstname, lastname, mother='unknown', father='unknown'):\n",
        "        self.lastname = lastname\n",
        "        self.firstname = firstname\n",
        "        self.mother = mother\n",
        "        self.father = father\n",
        "\n",
        "    def __str__(self):\n",
        "        return f'{self.firstname} {self.lastname}'\n",
        "\n",
        "    def __repr__(self):\n",
        "        return f\"Person('{self.firstname}', '{self.lastname}', mother='{self.mother}', father='{self.father}')\"\n",
        "    def unknownParent(self):\n",
        "        return self.mother == 'unknown' or self.father == 'unknown'\n",
        "\n",
        "    def maternalGrandmother(self):\n",
        "        if isinstance(self.mother, Person):\n",
        "            return self.mother.mother\n",
        "        else:\n",
        "            return 'unknown'\n",
        "\n"
      ],
      "metadata": {
        "id": "7mIxJGwwKTpv"
      },
      "execution_count": 16,
      "outputs": []
    },
    {
      "cell_type": "markdown",
      "source": [
        "Create enough `Person` objects to test whether your methods are working properly.  Show all your inputs and outputs.  It is up to you to demonstrate that you have thoroughly tested the code.  You may use additional code and/or text chunks if it helps."
      ],
      "metadata": {
        "id": "l9-4gxd8FxAQ"
      }
    },
    {
      "cell_type": "code",
      "source": [
        "\n",
        "grandmother = Person('Eleanor', 'Rigby', mother='Maggie', father='John')\n",
        "\n",
        "mother = Person('Mary', 'yakuma', mother=grandmother)\n",
        "\n",
        "person_with_parents = Person('john', 'yakuma', mother=mother, father='Michael yakuma')\n",
        "\n",
        "person_with_one_unknown_parent = Person('Jane', 'yakuma', mother='Jane Smith')\n",
        "\n",
        "person_with_unknown_parents = Person('Mike', 'yakuma')\n",
        "\n",
        "tests = {\n",
        "    'person_with_parents': {\n",
        "        'unknownParent': person_with_parents.unknownParent(),\n",
        "        'maternalGrandmother': person_with_parents.maternalGrandmother()\n",
        "    },\n",
        "    'person_with_one_unknown_parent': {\n",
        "        'unknownParent': person_with_one_unknown_parent.unknownParent(),\n",
        "        'maternalGrandmother': person_with_one_unknown_parent.maternalGrandmother()\n",
        "    },\n",
        "    'person_with_unknown_parents': {\n",
        "        'unknownParent': person_with_unknown_parents.unknownParent(),\n",
        "        'maternalGrandmother': person_with_unknown_parents.maternalGrandmother()\n",
        "    }\n",
        "}\n",
        "\n",
        "tests\n"
      ],
      "metadata": {
        "id": "gX1qpcKzFwoZ",
        "colab": {
          "base_uri": "https://localhost:8080/"
        },
        "outputId": "7f7490f8-c607-4489-8f61-5065edcbca04"
      },
      "execution_count": 19,
      "outputs": [
        {
          "output_type": "execute_result",
          "data": {
            "text/plain": [
              "{'person_with_parents': {'unknownParent': False,\n",
              "  'maternalGrandmother': Person('Eleanor', 'Rigby', mother='Maggie', father='John')},\n",
              " 'person_with_one_unknown_parent': {'unknownParent': True,\n",
              "  'maternalGrandmother': 'unknown'},\n",
              " 'person_with_unknown_parents': {'unknownParent': True,\n",
              "  'maternalGrandmother': 'unknown'}}"
            ]
          },
          "metadata": {},
          "execution_count": 19
        }
      ]
    }
  ]
}