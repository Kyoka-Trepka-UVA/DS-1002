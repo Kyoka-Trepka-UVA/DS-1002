{
  "cells": [
    {
      "cell_type": "markdown",
      "metadata": {
        "id": "view-in-github",
        "colab_type": "text"
      },
      "source": [
        "<a href=\"https://colab.research.google.com/github/Kyoka-Trepka-UVA/DS-1002/blob/main/Copy_of_Guessing_Game_Romulo%2C_Trepka.ipynb\" target=\"_parent\"><img src=\"https://colab.research.google.com/assets/colab-badge.svg\" alt=\"Open In Colab\"/></a>"
      ]
    },
    {
      "cell_type": "markdown",
      "metadata": {
        "id": "dYpnfVkl57BE"
      },
      "source": [
        "Guessing Game Assignment\n",
        "Lorenzo Romulo (lgr3qa)\n",
        "Kyoka Trepka (kjt7mq)"
      ]
    },
    {
      "cell_type": "code",
      "execution_count": null,
      "metadata": {
        "id": "l7fPqH556Gps"
      },
      "outputs": [],
      "source": [
        "#generate a random number between 0 and 100\n",
        "from numpy import random\n",
        "\n",
        "x = random.randint(100)\n",
        "# print(x)\n",
        "\n",
        "success = False\n",
        "\n",
        "while success == False:\n",
        "  print(\"Guess the number\")\n",
        "  n = input ()\n",
        "  if int(n) == x:\n",
        "     print(\"you got it!\")\n",
        "     success= True\n",
        "  if int(n) > x:\n",
        "    print(\"too high\")\n",
        "  if int(n) < x:\n",
        "    print(\"too low\")\n",
        "\n"
      ]
    },
    {
      "cell_type": "markdown",
      "metadata": {
        "id": "k3bzKQkJ9ylK"
      },
      "source": [
        "Make code more robust"
      ]
    },
    {
      "cell_type": "code",
      "execution_count": null,
      "metadata": {
        "id": "f7EYfC3H903X"
      },
      "outputs": [],
      "source": [
        "#generate a random number between 0 and 100\n",
        "from numpy import random\n",
        "\n",
        "print(\"I am selecting a number from 0 to 100\")\n",
        "\n",
        "x = random.randint(0,100)\n",
        "# print(x)\n",
        "counter_attempt = 0\n",
        "\n",
        "\n",
        "\n",
        "success = False\n",
        "\n",
        "while success == False:\n",
        "  print(\"Guess the number\")\n",
        "  n = input ()\n",
        "  counter_attempt += 0\n",
        "\n",
        "  try:\n",
        "    if int(n) == x:\n",
        "      print(\"you got it!\")\n",
        "      success= True\n",
        "      counter_attempt += 1\n",
        "      print(\"it took you\", counter_attempt, \"tries till correct number\")\n",
        "    if int(n) > x:\n",
        "     print(\"too high\")\n",
        "     counter_attempt += 1\n",
        "    if int(n) < x:\n",
        "     print(\"too low\")\n",
        "     counter_attempt += 1\n",
        "    # else:\n",
        "    #   int(n) <0 or int(n) >100\n",
        "    #   print(\"please select a number in between 0-100\")\n",
        "  except ValueError:\n",
        "    print(\"invalid input, choose a whole number from 0 to 100\")\n"
      ]
    },
    {
      "cell_type": "markdown",
      "source": [
        "This assignment took us 2 hours and we tried the extra credit for 3 but I dont know if it works well, we will probably look at it more later"
      ],
      "metadata": {
        "id": "QPeG0O-6t0BW"
      }
    }
  ],
  "metadata": {
    "colab": {
      "provenance": [],
      "include_colab_link": true
    },
    "kernelspec": {
      "display_name": "Python 3",
      "name": "python3"
    },
    "language_info": {
      "name": "python"
    }
  },
  "nbformat": 4,
  "nbformat_minor": 0
}