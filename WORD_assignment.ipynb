{
  "cells": [
    {
      "cell_type": "markdown",
      "metadata": {
        "id": "view-in-github",
        "colab_type": "text"
      },
      "source": [
        "<a href=\"https://colab.research.google.com/github/Kyoka-Trepka-UVA/DS-1002/blob/main/WORD_assignment.ipynb\" target=\"_parent\"><img src=\"https://colab.research.google.com/assets/colab-badge.svg\" alt=\"Open In Colab\"/></a>"
      ]
    },
    {
      "cell_type": "markdown",
      "metadata": {
        "id": "0avK1LrcGj5O"
      },
      "source": [
        "# Words Assignment\n",
        "\n",
        "Lorenzo Romulo\n",
        "\n",
        "Kyoka Trepka"
      ]
    },
    {
      "cell_type": "code",
      "execution_count": 1,
      "metadata": {
        "colab": {
          "base_uri": "https://localhost:8080/"
        },
        "id": "_dIJTGh5Gc4g",
        "outputId": "0c7ccd34-0d87-4d81-a014-7703d7f995ad"
      },
      "outputs": [
        {
          "output_type": "stream",
          "name": "stdout",
          "text": [
            "Collecting english_words\n",
            "  Downloading english-words-2.0.1.tar.gz (8.2 MB)\n",
            "\u001b[2K     \u001b[90m━━━━━━━━━━━━━━━━━━━━━━━━━━━━━━━━━━━━━━━━\u001b[0m \u001b[32m8.2/8.2 MB\u001b[0m \u001b[31m5.4 MB/s\u001b[0m eta \u001b[36m0:00:00\u001b[0m\n",
            "\u001b[?25h  Installing build dependencies ... \u001b[?25l\u001b[?25hdone\n",
            "  Getting requirements to build wheel ... \u001b[?25l\u001b[?25hdone\n",
            "  Preparing metadata (pyproject.toml) ... \u001b[?25l\u001b[?25hdone\n",
            "Building wheels for collected packages: english_words\n",
            "  Building wheel for english_words (pyproject.toml) ... \u001b[?25l\u001b[?25hdone\n",
            "  Created wheel for english_words: filename=english_words-2.0.1-py3-none-any.whl size=8196238 sha256=d1e84264104a3abe2254607fb91334d4db340f15743daaedd1c773dae7293094\n",
            "  Stored in directory: /root/.cache/pip/wheels/f0/e6/d9/16a123647999fe535f03a36e7af23eef203736d84c7ca25b0b\n",
            "Successfully built english_words\n",
            "Installing collected packages: english_words\n",
            "Successfully installed english_words-2.0.1\n"
          ]
        }
      ],
      "source": [
        "!pip install english_words\n",
        "from english_words import get_english_words_set\n",
        "words = get_english_words_set(['web2'],lower=True)"
      ]
    },
    {
      "cell_type": "markdown",
      "metadata": {
        "id": "pu5wQH82vNQI"
      },
      "source": [
        "# 1."
      ]
    },
    {
      "cell_type": "code",
      "execution_count": 2,
      "metadata": {
        "colab": {
          "base_uri": "https://localhost:8080/"
        },
        "id": "cdAJbFdQHXbm",
        "outputId": "02c1b0d9-ed4f-4ac9-9236-7e7db8435b66"
      },
      "outputs": [
        {
          "output_type": "stream",
          "name": "stdout",
          "text": [
            "<class 'set'>\n",
            "<class 'list'>\n"
          ]
        },
        {
          "output_type": "execute_result",
          "data": {
            "text/plain": [
              "234450"
            ]
          },
          "metadata": {},
          "execution_count": 2
        }
      ],
      "source": [
        "print(type(words))\n",
        "\n",
        "wordlist = list(words)\n",
        "print(type (wordlist))\n",
        "\n",
        "len(wordlist)\n",
        "\n"
      ]
    },
    {
      "cell_type": "markdown",
      "metadata": {
        "id": "G1mu0VwfvI5H"
      },
      "source": [
        "# 2."
      ]
    },
    {
      "cell_type": "code",
      "execution_count": 3,
      "metadata": {
        "colab": {
          "base_uri": "https://localhost:8080/"
        },
        "id": "TqZxsH8QI8Ya",
        "outputId": "a2645fe5-3778-4453-f50c-97c22a345d76"
      },
      "outputs": [
        {
          "output_type": "execute_result",
          "data": {
            "text/plain": [
              "['weldable',\n",
              " 'glossotype',\n",
              " 'avicennism',\n",
              " 'eyeshot',\n",
              " 'toydom',\n",
              " 'oxyiodide',\n",
              " 'oneirocritically',\n",
              " 'danagla',\n",
              " 'drayage',\n",
              " 'navigerous']"
            ]
          },
          "metadata": {},
          "execution_count": 3
        }
      ],
      "source": [
        "first_ten = wordlist[:10]\n",
        "first_ten\n",
        "\n",
        "\n",
        "\n"
      ]
    },
    {
      "cell_type": "markdown",
      "metadata": {
        "id": "asIbSJR9wEmD"
      },
      "source": [
        "we noticed that the words given seem to be in a random order, or not alphabetically organized"
      ]
    },
    {
      "cell_type": "markdown",
      "metadata": {
        "id": "WHzoEyaKvGzl"
      },
      "source": [
        "# 3."
      ]
    },
    {
      "cell_type": "code",
      "execution_count": 4,
      "metadata": {
        "colab": {
          "base_uri": "https://localhost:8080/"
        },
        "id": "SQrMhRmnQtkl",
        "outputId": "7303c063-2378-4854-d766-c4cef05cf67b"
      },
      "outputs": [
        {
          "output_type": "execute_result",
          "data": {
            "text/plain": [
              "['avicennism',\n",
              " 'danagla',\n",
              " 'drayage',\n",
              " 'eyeshot',\n",
              " 'glossotype',\n",
              " 'navigerous',\n",
              " 'oneirocritically',\n",
              " 'oxyiodide',\n",
              " 'toydom',\n",
              " 'weldable']"
            ]
          },
          "metadata": {},
          "execution_count": 4
        }
      ],
      "source": [
        "alpha_list = sorted(first_ten)\n",
        "first_ten_alpha = alpha_list[:10]\n",
        "first_ten_alpha"
      ]
    },
    {
      "cell_type": "markdown",
      "metadata": {
        "id": "utW3c73-vRQD"
      },
      "source": [
        "# 4."
      ]
    },
    {
      "cell_type": "code",
      "execution_count": 5,
      "metadata": {
        "colab": {
          "base_uri": "https://localhost:8080/"
        },
        "id": "Ny9LKzbRxo-g",
        "outputId": "d64ffb06-7563-4a52-d75b-51d884157f5b"
      },
      "outputs": [
        {
          "output_type": "execute_result",
          "data": {
            "text/plain": [
              "1"
            ]
          },
          "metadata": {},
          "execution_count": 5
        }
      ],
      "source": [
        "word_start_a = 0\n",
        "for word in alpha_list:\n",
        "  if word.startswith('a'):\n",
        "    word_start_a += 1\n",
        "  else:\n",
        "    break\n",
        "\n",
        "word_start_a"
      ]
    },
    {
      "cell_type": "code",
      "execution_count": 6,
      "metadata": {
        "colab": {
          "base_uri": "https://localhost:8080/"
        },
        "id": "6oIm7JMnvYOW",
        "outputId": "34a8b6c5-ef64-4dbe-ecc3-aaf83d7ac3b2"
      },
      "outputs": [
        {
          "output_type": "execute_result",
          "data": {
            "text/plain": [
              "1"
            ]
          },
          "metadata": {},
          "execution_count": 6
        }
      ],
      "source": [
        "words_starting_with_a = len(list(filter(lambda word: word.startswith('a'), alpha_list)))\n",
        "words_starting_with_a"
      ]
    },
    {
      "cell_type": "markdown",
      "metadata": {
        "id": "1IeVVUmxvbiu"
      },
      "source": [
        "# 5."
      ]
    },
    {
      "cell_type": "code",
      "execution_count": 7,
      "metadata": {
        "colab": {
          "base_uri": "https://localhost:8080/"
        },
        "id": "3zfPvUhZvgFV",
        "outputId": "469c6bce-c5f8-408b-df13-1774acbdd61a"
      },
      "outputs": [
        {
          "output_type": "stream",
          "name": "stdout",
          "text": [
            "Number of words containing 'q': 3624\n"
          ]
        }
      ],
      "source": [
        "q_words = [word for word in wordlist if 'q' in word]\n",
        "print(\"Number of words containing 'q':\", len(q_words))\n",
        "# I had to google up tutorials on how to do this and the rest of the homework"
      ]
    },
    {
      "cell_type": "code",
      "execution_count": 8,
      "metadata": {
        "colab": {
          "base_uri": "https://localhost:8080/"
        },
        "id": "ngQRxYBFzPba",
        "outputId": "5cbf364f-68f5-4f6c-cc39-a857d76ef5f0"
      },
      "outputs": [
        {
          "output_type": "stream",
          "name": "stdout",
          "text": [
            "Fraction of words without 'e': 0.32828321603753463\n"
          ]
        }
      ],
      "source": [
        "no_e_words = [word for word in wordlist if 'e' not in word]\n",
        "print(\"Fraction of words without 'e':\", len(no_e_words) / len(wordlist))"
      ]
    },
    {
      "cell_type": "markdown",
      "metadata": {
        "id": "6MHo-ACIu8lI"
      },
      "source": [
        "# 6."
      ]
    },
    {
      "cell_type": "code",
      "execution_count": 9,
      "metadata": {
        "colab": {
          "base_uri": "https://localhost:8080/"
        },
        "id": "kmCWvIUxS3CD",
        "outputId": "be00216f-8db1-4d96-8ffe-8deea96469c9"
      },
      "outputs": [
        {
          "output_type": "stream",
          "name": "stdout",
          "text": [
            "['a', 'b', 'c', 'd', 'e', 'f', 'g', 'h', 'i', 'j', 'k', 'l', 'm', 'n', 'o', 'p', 'q', 'r', 's', 't', 'u', 'v', 'w', 'x', 'y', 'z']\n"
          ]
        }
      ],
      "source": [
        "import numpy as np\n",
        "wordarray = np.array(words)\n",
        "alphabet = [chr(i) for i in range(ord('a'),ord('z')+1)]\n",
        "print(alphabet)\n"
      ]
    },
    {
      "cell_type": "markdown",
      "metadata": {
        "id": "2GgX5gs8vjLe"
      },
      "source": [
        "It contains all the letters from the English alphabet from \"a to z\""
      ]
    },
    {
      "cell_type": "markdown",
      "metadata": {
        "id": "YhVgTZm0vy_W"
      },
      "source": [
        "# 7.\n"
      ]
    },
    {
      "cell_type": "code",
      "execution_count": 10,
      "metadata": {
        "colab": {
          "base_uri": "https://localhost:8080/",
          "height": 564
        },
        "id": "gXoSE3sSv1Un",
        "outputId": "302028ee-7a27-48d2-e9e5-99d5625bd565"
      },
      "outputs": [
        {
          "output_type": "display_data",
          "data": {
            "text/plain": [
              "<Figure size 1000x600 with 1 Axes>"
            ],
            "image/png": "[encoded data removed]"
          },
          "metadata": {}
        }
      ],
      "source": [
        "import matplotlib.pyplot as plt\n",
        "letter_counts = [len([word for word in wordlist if word.startswith(letter)]) for letter in alphabet]\n",
        "plt.figure(figsize=(10, 6))\n",
        "plt.bar(alphabet, letter_counts)\n",
        "plt.title('Frequency of Words Starting with Each Letter')\n",
        "plt.xlabel('Letter')\n",
        "plt.ylabel('Number of Words')\n",
        "plt.show()\n",
        "\n"
      ]
    },
    {
      "cell_type": "markdown",
      "metadata": {
        "id": "6tyIqpP-v17x"
      },
      "source": [
        "#8."
      ]
    },
    {
      "cell_type": "code",
      "execution_count": 11,
      "metadata": {
        "colab": {
          "base_uri": "https://localhost:8080/"
        },
        "id": "uwZ22K3rBdDy",
        "outputId": "af631727-5ca9-43aa-e669-38e8ce62e028"
      },
      "outputs": [
        {
          "output_type": "stream",
          "name": "stdout",
          "text": [
            "Six longest words: ['antidisestablishmentarianism', 'formaldehydesulphoxylate', 'pathologicopsychological', 'thyroparathyroidectomize', 'scientificophilosophical', 'tetraiodophenolphthalein']\n"
          ]
        }
      ],
      "source": [
        "longest_words = sorted(wordlist, key=len, reverse=True)[:6]\n",
        "print(\"Six longest words:\", longest_words)"
      ]
    },
    {
      "cell_type": "markdown",
      "metadata": {
        "id": "8PPs8jKvv4dU"
      },
      "source": [
        "#9."
      ]
    },
    {
      "cell_type": "code",
      "execution_count": 12,
      "metadata": {
        "colab": {
          "base_uri": "https://localhost:8080/",
          "height": 564
        },
        "id": "YldOgW2Av5tv",
        "outputId": "eae8fe8d-28a5-47d8-b646-ef09315b0b88"
      },
      "outputs": [
        {
          "output_type": "display_data",
          "data": {
            "text/plain": [
              "<Figure size 1000x600 with 1 Axes>"
            ],
            "image/png": "[encoded data removed]"
          },
          "metadata": {}
        }
      ],
      "source": [
        "word_lengths = [len(word) for word in wordlist]\n",
        "plt.figure(figsize=(10, 6))\n",
        "plt.hist(word_lengths, bins=np.arange(min(word_lengths), max(word_lengths) + 1) - 0.5, edgecolor='black')\n",
        "plt.title('Distribution of Word Lengths')\n",
        "plt.xlabel('Word Length')\n",
        "plt.ylabel('Frequency')\n",
        "plt.show()"
      ]
    },
    {
      "cell_type": "markdown",
      "metadata": {
        "id": "iB9Hma3Qv8XG"
      },
      "source": [
        "#11."
      ]
    },
    {
      "cell_type": "code",
      "execution_count": 13,
      "metadata": {
        "colab": {
          "base_uri": "https://localhost:8080/"
        },
        "id": "V1D-_GFRv9sa",
        "outputId": "38a39426-67c0-4ac5-ce57-ff6b43af8f49"
      },
      "outputs": [
        {
          "output_type": "stream",
          "name": "stdout",
          "text": [
            "Words containing both 'v' and 'a': 11347\n",
            "Words containing both 'w' and 'l': 4822\n"
          ]
        }
      ],
      "source": [
        "# Words with 'v' and 'a'\n",
        "va_words = [word for word in wordlist if 'v' in word and 'a' in word]\n",
        "print(\"Words containing both 'v' and 'a':\", len(va_words))\n",
        "\n",
        "# Words with 'w' and 'l'\n",
        "wl_words = [word for word in wordlist if 'w' in word and 'l' in word]\n",
        "print(\"Words containing both 'w' and 'l':\", len(wl_words))"
      ]
    }
  ],
  "metadata": {
    "colab": {
      "provenance": [],
      "include_colab_link": true
    },
    "kernelspec": {
      "display_name": "Python 3",
      "name": "python3"
    },
    "language_info": {
      "name": "python"
    }
  },
  "nbformat": 4,
  "nbformat_minor": 0
}