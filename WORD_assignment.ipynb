{
  "cells": [
    {
      "cell_type": "markdown",
      "metadata": {
        "id": "view-in-github",
        "colab_type": "text"
      },
      "source": [
        "<a href=\"https://colab.research.google.com/github/Kyoka-Trepka-UVA/DS-1002/blob/main/WORD_assignment.ipynb\" target=\"_parent\"><img src=\"https://colab.research.google.com/assets/colab-badge.svg\" alt=\"Open In Colab\"/></a>"
      ]
    },
    {
      "cell_type": "markdown",
      "metadata": {
        "id": "0avK1LrcGj5O"
      },
      "source": [
        "# Words Assignment\n",
        "\n",
        "Lorenzo Romulo\n",
        "\n",
        "Kyoka Trepka"
      ]
    },
    {
      "cell_type": "code",
      "execution_count": 48,
      "metadata": {
        "colab": {
          "base_uri": "https://localhost:8080/"
        },
        "id": "_dIJTGh5Gc4g",
        "outputId": "01a308c3-90a9-4350-9683-8332446f1e18"
      },
      "outputs": [
        {
          "output_type": "stream",
          "name": "stdout",
          "text": [
            "Requirement already satisfied: english_words in /usr/local/lib/python3.10/dist-packages (2.0.1)\n"
          ]
        }
      ],
      "source": [
        "!pip install english_words\n",
        "from english_words import get_english_words_set\n",
        "words = get_english_words_set(['web2'],lower=True)"
      ]
    },
    {
      "cell_type": "markdown",
      "metadata": {
        "id": "pu5wQH82vNQI"
      },
      "source": [
        "# 1."
      ]
    },
    {
      "cell_type": "code",
      "execution_count": 49,
      "metadata": {
        "colab": {
          "base_uri": "https://localhost:8080/"
        },
        "id": "cdAJbFdQHXbm",
        "outputId": "16d5a591-35aa-497d-8ecf-c1414f28f327"
      },
      "outputs": [
        {
          "output_type": "stream",
          "name": "stdout",
          "text": [
            "<class 'set'>\n",
            "<class 'list'>\n"
          ]
        },
        {
          "output_type": "execute_result",
          "data": {
            "text/plain": [
              "234450"
            ]
          },
          "metadata": {},
          "execution_count": 49
        }
      ],
      "source": [
        "print(type(words))\n",
        "\n",
        "wordlist = list(words)\n",
        "print(type (wordlist))\n",
        "\n",
        "len(wordlist)\n",
        "\n"
      ]
    },
    {
      "cell_type": "markdown",
      "metadata": {
        "id": "G1mu0VwfvI5H"
      },
      "source": [
        "# 2."
      ]
    },
    {
      "cell_type": "code",
      "execution_count": 50,
      "metadata": {
        "colab": {
          "base_uri": "https://localhost:8080/"
        },
        "id": "TqZxsH8QI8Ya",
        "outputId": "f66380db-e860-4f04-8b28-f51e2c010b3c"
      },
      "outputs": [
        {
          "output_type": "execute_result",
          "data": {
            "text/plain": [
              "['reshearer',\n",
              " 'molinia',\n",
              " 'flocculose',\n",
              " 'judicatorial',\n",
              " 'vasotomy',\n",
              " 'brasset',\n",
              " 'parter',\n",
              " 'procerity',\n",
              " 'psychomantic',\n",
              " 'stoundmeal']"
            ]
          },
          "metadata": {},
          "execution_count": 50
        }
      ],
      "source": [
        "first_ten = wordlist[:10]\n",
        "first_ten\n",
        "\n",
        "\n",
        "\n"
      ]
    },
    {
      "cell_type": "markdown",
      "metadata": {
        "id": "asIbSJR9wEmD"
      },
      "source": [
        "we noticed that the words given seem to be in a random order, or not alphabetically organized"
      ]
    },
    {
      "cell_type": "markdown",
      "metadata": {
        "id": "WHzoEyaKvGzl"
      },
      "source": [
        "# 3."
      ]
    },
    {
      "cell_type": "code",
      "execution_count": null,
      "metadata": {
        "colab": {
          "base_uri": "https://localhost:8080/"
        },
        "id": "SQrMhRmnQtkl",
        "outputId": "ecf1d382-fc8f-4c82-f85c-99bf05249488"
      },
      "outputs": [
        {
          "output_type": "execute_result",
          "data": {
            "text/plain": [
              "['brasset',\n",
              " 'flocculose',\n",
              " 'judicatorial',\n",
              " 'molinia',\n",
              " 'parter',\n",
              " 'procerity',\n",
              " 'psychomantic',\n",
              " 'reshearer',\n",
              " 'stoundmeal',\n",
              " 'vasotomy']"
            ]
          },
          "metadata": {},
          "execution_count": 19
        }
      ],
      "source": [
        "alpha_list = sorted(first_ten)\n",
        "first_ten_alpha = alpha_list[:10]\n",
        "first_ten_alpha"
      ]
    },
    {
      "cell_type": "markdown",
      "metadata": {
        "id": "utW3c73-vRQD"
      },
      "source": [
        "# 4."
      ]
    },
    {
      "cell_type": "code",
      "source": [
        "# We sorted the wordlist alphabetically to make it a bit easier for us\n",
        "beta_list = sorted(wordlist)\n"
      ],
      "metadata": {
        "id": "ExhlKDHWS_1E"
      },
      "execution_count": 55,
      "outputs": []
    },
    {
      "cell_type": "code",
      "execution_count": 56,
      "metadata": {
        "colab": {
          "base_uri": "https://localhost:8080/"
        },
        "id": "Ny9LKzbRxo-g",
        "outputId": "57516bc2-7926-4249-f815-35e2298a41fa"
      },
      "outputs": [
        {
          "output_type": "execute_result",
          "data": {
            "text/plain": [
              "16982"
            ]
          },
          "metadata": {},
          "execution_count": 56
        }
      ],
      "source": [
        "word_start_a = 0\n",
        "for word in beta_list:\n",
        "  if word.startswith('a'):\n",
        "    word_start_a += 1\n",
        "  else:\n",
        "    break\n",
        "\n",
        "word_start_a"
      ]
    },
    {
      "cell_type": "code",
      "execution_count": 57,
      "metadata": {
        "colab": {
          "base_uri": "https://localhost:8080/"
        },
        "id": "6oIm7JMnvYOW",
        "outputId": "2c6a405e-3dd0-4bf5-c323-9633fd665869"
      },
      "outputs": [
        {
          "output_type": "execute_result",
          "data": {
            "text/plain": [
              "16982"
            ]
          },
          "metadata": {},
          "execution_count": 57
        }
      ],
      "source": [
        "words_starting_with_a = len(list(filter(lambda word: word.startswith('a'), beta_list)))\n",
        "words_starting_with_a"
      ]
    },
    {
      "cell_type": "markdown",
      "metadata": {
        "id": "1IeVVUmxvbiu"
      },
      "source": [
        "# 5."
      ]
    },
    {
      "cell_type": "code",
      "execution_count": 81,
      "metadata": {
        "colab": {
          "base_uri": "https://localhost:8080/"
        },
        "id": "3zfPvUhZvgFV",
        "outputId": "86d9015e-586b-4a66-b166-c2ea881fe653"
      },
      "outputs": [
        {
          "output_type": "execute_result",
          "data": {
            "text/plain": [
              "0"
            ]
          },
          "metadata": {},
          "execution_count": 81
        }
      ],
      "source": [
        "word_with_q=0\n",
        "for word in beta_list:\n",
        "  if \"q\" in word:\n",
        "    word_with_q += 1\n",
        "  else:\n",
        "    break\n",
        "\n",
        "word_with_q"
      ]
    },
    {
      "cell_type": "code",
      "source": [
        "# I think this works, but i want the code above ^^ to work like it did in question 4\n",
        "word_with_q = len(list(filter(lambda word: ('q'), beta_list)))\n",
        "word_with_q"
      ],
      "metadata": {
        "id": "XnW_dWb4T40K",
        "outputId": "85f37e60-a1bf-4aa9-843d-46d021057214",
        "colab": {
          "base_uri": "https://localhost:8080/"
        }
      },
      "execution_count": 64,
      "outputs": [
        {
          "output_type": "execute_result",
          "data": {
            "text/plain": [
              "234450"
            ]
          },
          "metadata": {},
          "execution_count": 64
        }
      ]
    },
    {
      "cell_type": "code",
      "execution_count": 71,
      "metadata": {
        "colab": {
          "base_uri": "https://localhost:8080/"
        },
        "id": "ngQRxYBFzPba",
        "outputId": "90480d1f-6cc3-47a2-8d97-5300eebfbd89"
      },
      "outputs": [
        {
          "output_type": "stream",
          "name": "stdout",
          "text": [
            "11\n"
          ]
        },
        {
          "output_type": "execute_result",
          "data": {
            "text/plain": [
              "4.691831947110258e-05"
            ]
          },
          "metadata": {},
          "execution_count": 71
        }
      ],
      "source": [
        "word_without_e = 0\n",
        "for word in beta_list:\n",
        "  if 'e' not in word:\n",
        "    word_without_e += 1\n",
        "  else:\n",
        "    break\n",
        "print(word_without_e)\n",
        "\n",
        "fraction_without_e = word_without_e / len(beta_list)\n",
        "fraction_without_e"
      ]
    },
    {
      "cell_type": "markdown",
      "metadata": {
        "id": "6MHo-ACIu8lI"
      },
      "source": [
        "# 6."
      ]
    },
    {
      "cell_type": "code",
      "execution_count": 72,
      "metadata": {
        "colab": {
          "base_uri": "https://localhost:8080/"
        },
        "id": "kmCWvIUxS3CD",
        "outputId": "9c09bde7-3b81-4fd2-c5d7-6d6e21652686"
      },
      "outputs": [
        {
          "output_type": "stream",
          "name": "stdout",
          "text": [
            "['a', 'b', 'c', 'd', 'e', 'f', 'g', 'h', 'i', 'j', 'k', 'l', 'm', 'n', 'o', 'p', 'q', 'r', 's', 't', 'u', 'v', 'w', 'x', 'y', 'z']\n"
          ]
        }
      ],
      "source": [
        "import numpy as np\n",
        "wordarray = np.array(words)\n",
        "alphabet = [chr(i) for i in range(ord('a'),ord('z')+1)]\n",
        "print(alphabet)\n"
      ]
    },
    {
      "cell_type": "markdown",
      "metadata": {
        "id": "2GgX5gs8vjLe"
      },
      "source": [
        "It contains all the letters from the English alphabet from \"a to z\""
      ]
    },
    {
      "cell_type": "markdown",
      "metadata": {
        "id": "YhVgTZm0vy_W"
      },
      "source": [
        "# 7.\n"
      ]
    },
    {
      "cell_type": "code",
      "execution_count": 73,
      "metadata": {
        "colab": {
          "base_uri": "https://localhost:8080/",
          "height": 490
        },
        "id": "gXoSE3sSv1Un",
        "outputId": "92df20c6-66a5-4711-a7a2-64cc0d4b0fa3"
      },
      "outputs": [
        {
          "output_type": "execute_result",
          "data": {
            "text/plain": [
              "Text(0, 0.5, 'word Count')"
            ]
          },
          "metadata": {},
          "execution_count": 73
        },
        {
          "output_type": "display_data",
          "data": {
            "text/plain": [
              "<Figure size 640x480 with 1 Axes>"
            ],
            "image/png": "[encoded data removed]"
          },
          "metadata": {}
        }
      ],
      "source": [
        "import matplotlib.pyplot as plt\n",
        "alphabet_counts = {letter: 0 for letter in alphabet}\n",
        "for word in beta_list:\n",
        "  first_letter = word[0]\n",
        "  if first_letter in alphabet_counts:\n",
        "    alphabet_counts[first_letter] +=1\n",
        "\n",
        "count = list(alphabet_counts.values())\n",
        "plt.bar(alphabet, count, color='pink' )\n",
        "\n",
        "plt.title('Number of words starting with each letter')\n",
        "plt.xlabel('alphabet')\n",
        "plt.ylabel('word Count')\n",
        "\n"
      ]
    },
    {
      "cell_type": "markdown",
      "metadata": {
        "id": "6tyIqpP-v17x"
      },
      "source": [
        "#8."
      ]
    },
    {
      "cell_type": "code",
      "execution_count": 74,
      "metadata": {
        "colab": {
          "base_uri": "https://localhost:8080/"
        },
        "id": "uwZ22K3rBdDy",
        "outputId": "2863461a-886b-48be-de7a-6ad53ab36f1b"
      },
      "outputs": [
        {
          "output_type": "execute_result",
          "data": {
            "text/plain": [
              "['antidisestablishmentarianism',\n",
              " 'formaldehydesulphoxylate',\n",
              " 'pathologicopsychological',\n",
              " 'scientificophilosophical',\n",
              " 'tetraiodophenolphthalein',\n",
              " 'thyroparathyroidectomize']"
            ]
          },
          "metadata": {},
          "execution_count": 74
        }
      ],
      "source": [
        "sorted_by_length = sorted(beta_list, key=len, reverse=True)\n",
        "six_longest_words = sorted_by_length[:6]\n",
        "six_longest_words"
      ]
    },
    {
      "cell_type": "markdown",
      "metadata": {
        "id": "8PPs8jKvv4dU"
      },
      "source": [
        "#9."
      ]
    },
    {
      "cell_type": "code",
      "execution_count": 75,
      "metadata": {
        "colab": {
          "base_uri": "https://localhost:8080/",
          "height": 907
        },
        "id": "YldOgW2Av5tv",
        "outputId": "b1047cc3-404f-4bf5-ce68-e17b01c52af9"
      },
      "outputs": [
        {
          "output_type": "display_data",
          "data": {
            "text/plain": [
              "<Figure size 640x480 with 1 Axes>"
            ],
            "image/png": "[encoded data removed]"
          },
          "metadata": {}
        },
        {
          "output_type": "display_data",
          "data": {
            "text/plain": [
              "<Figure size 640x480 with 1 Axes>"
            ],
            "image/png": "[encoded data removed]"
          },
          "metadata": {}
        }
      ],
      "source": [
        "length_counts = {}\n",
        "\n",
        "for word in beta_list:\n",
        "  word_length = len(word)\n",
        "  if word_length in length_counts:\n",
        "    length_counts[word_length] +=1\n",
        "  else:\n",
        "    length_counts[word_length] =1\n",
        "\n",
        "length = list(length_counts.keys())\n",
        "counts = list(length_counts.values())\n",
        "plt.bar(length, counts)\n",
        "plt.title(\"Raw Data\")\n",
        "plt.show()\n",
        "\n",
        "word_length = [len(word)for word in beta_list]\n",
        "plt.hist(word_length, bins=range(min(word_length), max(word_length) +1),align='left')\n",
        "\n",
        "plt.title('Histogram of Word Lengths')\n",
        "plt.xlabel('Length of Words')\n",
        "plt.ylabel('Frequency')\n",
        "\n",
        "plt.show()"
      ]
    },
    {
      "cell_type": "markdown",
      "metadata": {
        "id": "iB9Hma3Qv8XG"
      },
      "source": [
        "#11."
      ]
    },
    {
      "cell_type": "code",
      "execution_count": 76,
      "metadata": {
        "colab": {
          "base_uri": "https://localhost:8080/"
        },
        "id": "V1D-_GFRv9sa",
        "outputId": "ff86dd4d-bbef-4932-96a1-76f6f2095353"
      },
      "outputs": [
        {
          "output_type": "execute_result",
          "data": {
            "text/plain": [
              "(11347, 4822)"
            ]
          },
          "metadata": {},
          "execution_count": 76
        }
      ],
      "source": [
        "v_a = 0\n",
        "w_l = 0\n",
        "\n",
        "for word in beta_list:\n",
        "  if 'v' in word and 'a' in word:\n",
        "    v_a += 1\n",
        "  if 'w' in word and 'l' in word:\n",
        "    w_l += 1\n",
        "\n",
        "v_a,w_l"
      ]
    }
  ],
  "metadata": {
    "colab": {
      "provenance": [],
      "include_colab_link": true
    },
    "kernelspec": {
      "display_name": "Python 3",
      "name": "python3"
    },
    "language_info": {
      "name": "python"
    }
  },
  "nbformat": 4,
  "nbformat_minor": 0
}